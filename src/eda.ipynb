{
 "cells": [
  {
   "cell_type": "code",
   "execution_count": 2,
   "metadata": {},
   "outputs": [],
   "source": [
    "%matplotlib inline"
   ]
  },
  {
   "cell_type": "code",
   "execution_count": 1,
   "metadata": {},
   "outputs": [],
   "source": [
    "import pandas as pd #Manejo de datos tabulados\n",
    "import numpy as np #Algebra Lineal y operaciones matematicas\n",
    "import matplotlib.pyplot as plt #Graficos de datos\n",
    "import seaborn as sns #Graficos estadisticos\n",
    "import pandas_profiling as ppr  #\n",
    "from fitter import fitter #Ajustes de distribuciones de probs\n",
    "import geopandas as gpd #Pandas para datos geograficos\n",
    "import datetime #Tipo de dato para fechas y horas"
   ]
  },
  {
   "cell_type": "code",
   "execution_count": 3,
   "metadata": {},
   "outputs": [],
   "source": [
    "sns.set_theme(style=\"whitegrid\")"
   ]
  },
  {
   "cell_type": "code",
   "execution_count": 4,
   "metadata": {},
   "outputs": [],
   "source": [
    "##Leemos los datos seleccionados\n",
    "df_main=pd.read_csv('..\\DATA\\Churn_Modelling.csv')"
   ]
  },
  {
   "cell_type": "markdown",
   "metadata": {},
   "source": [
    "### Analisis Exploratorio de Datos\n",
    "#### EDA, por sus siglas en inglés, es el proceso de limpieza y descubrimiento de insights a través de la revisión detallada de un conjunto de datos.\n",
    " ##### Pasos de preparación: \n",
    " ##### 1)Seleccionar las variables a analizar (que sean relevantes para el estudio) \n",
    " ##### 2)Verificar la integridad de las variables (si están limpias o qué debemos hacer para limpiarlas o si no se pueden usar)\n",
    " ##### 3)Plantearse preguntas de exploración"
   ]
  },
  {
   "cell_type": "markdown",
   "metadata": {},
   "source": [
    "#### 1)Seleccionar las variables a analizar (que sean relevantes para el estudio)"
   ]
  },
  {
   "cell_type": "code",
   "execution_count": 5,
   "metadata": {},
   "outputs": [
    {
     "name": "stdout",
     "output_type": "stream",
     "text": [
      "<class 'pandas.core.frame.DataFrame'>\n",
      "RangeIndex: 10000 entries, 0 to 9999\n",
      "Data columns (total 14 columns):\n",
      " #   Column           Non-Null Count  Dtype  \n",
      "---  ------           --------------  -----  \n",
      " 0   RowNumber        10000 non-null  int64  \n",
      " 1   CustomerId       10000 non-null  int64  \n",
      " 2   Surname          10000 non-null  object \n",
      " 3   CreditScore      10000 non-null  int64  \n",
      " 4   Geography        10000 non-null  object \n",
      " 5   Gender           10000 non-null  object \n",
      " 6   Age              10000 non-null  int64  \n",
      " 7   Tenure           10000 non-null  int64  \n",
      " 8   Balance          10000 non-null  float64\n",
      " 9   NumOfProducts    10000 non-null  int64  \n",
      " 10  HasCrCard        10000 non-null  int64  \n",
      " 11  IsActiveMember   10000 non-null  int64  \n",
      " 12  EstimatedSalary  10000 non-null  float64\n",
      " 13  Exited           10000 non-null  int64  \n",
      "dtypes: float64(2), int64(9), object(3)\n",
      "memory usage: 1.1+ MB\n"
     ]
    }
   ],
   "source": [
    "df_main.info()"
   ]
  },
  {
   "cell_type": "code",
   "execution_count": 6,
   "metadata": {},
   "outputs": [
    {
     "data": {
      "text/html": [
       "<div>\n",
       "<style scoped>\n",
       "    .dataframe tbody tr th:only-of-type {\n",
       "        vertical-align: middle;\n",
       "    }\n",
       "\n",
       "    .dataframe tbody tr th {\n",
       "        vertical-align: top;\n",
       "    }\n",
       "\n",
       "    .dataframe thead th {\n",
       "        text-align: right;\n",
       "    }\n",
       "</style>\n",
       "<table border=\"1\" class=\"dataframe\">\n",
       "  <thead>\n",
       "    <tr style=\"text-align: right;\">\n",
       "      <th></th>\n",
       "      <th>RowNumber</th>\n",
       "      <th>CustomerId</th>\n",
       "      <th>Surname</th>\n",
       "      <th>CreditScore</th>\n",
       "      <th>Geography</th>\n",
       "      <th>Gender</th>\n",
       "      <th>Age</th>\n",
       "      <th>Tenure</th>\n",
       "      <th>Balance</th>\n",
       "      <th>NumOfProducts</th>\n",
       "      <th>HasCrCard</th>\n",
       "      <th>IsActiveMember</th>\n",
       "      <th>EstimatedSalary</th>\n",
       "      <th>Exited</th>\n",
       "    </tr>\n",
       "  </thead>\n",
       "  <tbody>\n",
       "    <tr>\n",
       "      <th>0</th>\n",
       "      <td>1</td>\n",
       "      <td>15634602</td>\n",
       "      <td>Hargrave</td>\n",
       "      <td>619</td>\n",
       "      <td>France</td>\n",
       "      <td>Female</td>\n",
       "      <td>42</td>\n",
       "      <td>2</td>\n",
       "      <td>0.00</td>\n",
       "      <td>1</td>\n",
       "      <td>1</td>\n",
       "      <td>1</td>\n",
       "      <td>101348.88</td>\n",
       "      <td>1</td>\n",
       "    </tr>\n",
       "    <tr>\n",
       "      <th>1</th>\n",
       "      <td>2</td>\n",
       "      <td>15647311</td>\n",
       "      <td>Hill</td>\n",
       "      <td>608</td>\n",
       "      <td>Spain</td>\n",
       "      <td>Female</td>\n",
       "      <td>41</td>\n",
       "      <td>1</td>\n",
       "      <td>83807.86</td>\n",
       "      <td>1</td>\n",
       "      <td>0</td>\n",
       "      <td>1</td>\n",
       "      <td>112542.58</td>\n",
       "      <td>0</td>\n",
       "    </tr>\n",
       "    <tr>\n",
       "      <th>2</th>\n",
       "      <td>3</td>\n",
       "      <td>15619304</td>\n",
       "      <td>Onio</td>\n",
       "      <td>502</td>\n",
       "      <td>France</td>\n",
       "      <td>Female</td>\n",
       "      <td>42</td>\n",
       "      <td>8</td>\n",
       "      <td>159660.80</td>\n",
       "      <td>3</td>\n",
       "      <td>1</td>\n",
       "      <td>0</td>\n",
       "      <td>113931.57</td>\n",
       "      <td>1</td>\n",
       "    </tr>\n",
       "    <tr>\n",
       "      <th>3</th>\n",
       "      <td>4</td>\n",
       "      <td>15701354</td>\n",
       "      <td>Boni</td>\n",
       "      <td>699</td>\n",
       "      <td>France</td>\n",
       "      <td>Female</td>\n",
       "      <td>39</td>\n",
       "      <td>1</td>\n",
       "      <td>0.00</td>\n",
       "      <td>2</td>\n",
       "      <td>0</td>\n",
       "      <td>0</td>\n",
       "      <td>93826.63</td>\n",
       "      <td>0</td>\n",
       "    </tr>\n",
       "    <tr>\n",
       "      <th>4</th>\n",
       "      <td>5</td>\n",
       "      <td>15737888</td>\n",
       "      <td>Mitchell</td>\n",
       "      <td>850</td>\n",
       "      <td>Spain</td>\n",
       "      <td>Female</td>\n",
       "      <td>43</td>\n",
       "      <td>2</td>\n",
       "      <td>125510.82</td>\n",
       "      <td>1</td>\n",
       "      <td>1</td>\n",
       "      <td>1</td>\n",
       "      <td>79084.10</td>\n",
       "      <td>0</td>\n",
       "    </tr>\n",
       "  </tbody>\n",
       "</table>\n",
       "</div>"
      ],
      "text/plain": [
       "   RowNumber  CustomerId   Surname  CreditScore Geography  Gender  Age  \\\n",
       "0          1    15634602  Hargrave          619    France  Female   42   \n",
       "1          2    15647311      Hill          608     Spain  Female   41   \n",
       "2          3    15619304      Onio          502    France  Female   42   \n",
       "3          4    15701354      Boni          699    France  Female   39   \n",
       "4          5    15737888  Mitchell          850     Spain  Female   43   \n",
       "\n",
       "   Tenure    Balance  NumOfProducts  HasCrCard  IsActiveMember  \\\n",
       "0       2       0.00              1          1               1   \n",
       "1       1   83807.86              1          0               1   \n",
       "2       8  159660.80              3          1               0   \n",
       "3       1       0.00              2          0               0   \n",
       "4       2  125510.82              1          1               1   \n",
       "\n",
       "   EstimatedSalary  Exited  \n",
       "0        101348.88       1  \n",
       "1        112542.58       0  \n",
       "2        113931.57       1  \n",
       "3         93826.63       0  \n",
       "4         79084.10       0  "
      ]
     },
     "execution_count": 6,
     "metadata": {},
     "output_type": "execute_result"
    }
   ],
   "source": [
    "df_main.head()"
   ]
  },
  {
   "cell_type": "code",
   "execution_count": 7,
   "metadata": {},
   "outputs": [
    {
     "data": {
      "text/plain": [
       "(10000, 10000)"
      ]
     },
     "execution_count": 7,
     "metadata": {},
     "output_type": "execute_result"
    }
   ],
   "source": [
    "# Validar integridad del identificador único\n",
    "len(df_main['CustomerId'].unique()),df_main.shape[0]"
   ]
  },
  {
   "cell_type": "markdown",
   "metadata": {},
   "source": [
    "### Explorar la variable \"Age\""
   ]
  },
  {
   "cell_type": "code",
   "execution_count": 8,
   "metadata": {},
   "outputs": [
    {
     "data": {
      "image/png": "[encoded data removed]",
      "text/plain": [
       "<Figure size 432x288 with 1 Axes>"
      ]
     },
     "metadata": {},
     "output_type": "display_data"
    }
   ],
   "source": [
    "df_main['Age'].hist()\n",
    "plt.show()"
   ]
  },
  {
   "cell_type": "code",
   "execution_count": 9,
   "metadata": {},
   "outputs": [
    {
     "data": {
      "text/plain": [
       "count    10000.000000\n",
       "mean        38.921800\n",
       "std         10.487806\n",
       "min         18.000000\n",
       "25%         32.000000\n",
       "50%         37.000000\n",
       "75%         44.000000\n",
       "max         92.000000\n",
       "Name: Age, dtype: float64"
      ]
     },
     "execution_count": 9,
     "metadata": {},
     "output_type": "execute_result"
    }
   ],
   "source": [
    "df_main['Age'].describe()"
   ]
  },
  {
   "cell_type": "code",
   "execution_count": 14,
   "metadata": {},
   "outputs": [
    {
     "data": {
      "text/plain": [
       "(30, 36]    2641\n",
       "(36, 42]    2497\n",
       "(24, 30]    1511\n",
       "(42, 48]    1352\n",
       "(48, 54]     660\n",
       "(18, 24]     435\n",
       "(54, 60]     418\n",
       "(60, 66]     235\n",
       "(66, 72]     144\n",
       "(72, 78]      66\n",
       "(78, 92]      19\n",
       "Name: Age, dtype: int64"
      ]
     },
     "execution_count": 14,
     "metadata": {},
     "output_type": "execute_result"
    }
   ],
   "source": [
    "rangos_edad = [18,24,30,36,42,48,54,60,66,72,78,92]\n",
    "edad_bins = pd.cut(df_main['Age'], bins=rangos_edad)\n",
    "\n",
    "edad_bins_count = edad_bins.value_counts()\n",
    "edad_bins_count"
   ]
  },
  {
   "cell_type": "code",
   "execution_count": 15,
   "metadata": {},
   "outputs": [
    {
     "data": {
      "text/plain": [
       "<AxesSubplot:>"
      ]
     },
     "execution_count": 15,
     "metadata": {},
     "output_type": "execute_result"
    },
    {
     "data": {
      "image/png": "[encoded data removed]",
      "text/plain": [
       "<Figure size 432x288 with 1 Axes>"
      ]
     },
     "metadata": {},
     "output_type": "display_data"
    }
   ],
   "source": [
    "edad_bins_count.sort_index().plot(kind='bar')"
   ]
  },
  {
   "cell_type": "code",
   "execution_count": 16,
   "metadata": {},
   "outputs": [],
   "source": [
    "df_main['edad_bins']=edad_bins"
   ]
  },
  {
   "cell_type": "code",
   "execution_count": 10,
   "metadata": {},
   "outputs": [
    {
     "name": "stderr",
     "output_type": "stream",
     "text": [
      "Summarize dataset: 100%|██████████| 20/20 [00:01<00:00, 19.63it/s, Completed]                        \n",
      "Generate report structure: 100%|██████████| 1/1 [00:21<00:00, 21.26s/it]\n",
      "Render HTML: 100%|██████████| 1/1 [00:05<00:00,  5.63s/it]\n",
      "c:\\Users\\abiga\\Documents\\AnalyticsMiproyecto\\Pythonanalytics_env\\lib\\site-packages\\pandas_profiling\\profile_report.py:262: UserWarning: Extension .csv not supported. For now we assume .html was intended. To remove this warning, please use .html or .json.\n",
      "  warnings.warn(\n",
      "Export report to file: 100%|██████████| 1/1 [00:00<00:00, 45.46it/s]\n"
     ]
    }
   ],
   "source": [
    "profile = ppr.ProfileReport(df_main, title='Pandas Profiling Report', minimal=True)\n",
    "profile.to_file('..\\DATA\\'Churn_Modelling.csv')"
   ]
  },
  {
   "cell_type": "code",
   "execution_count": 17,
   "metadata": {},
   "outputs": [
    {
     "data": {
      "text/plain": [
       "(0, 0.0)"
      ]
     },
     "execution_count": 17,
     "metadata": {},
     "output_type": "execute_result"
    }
   ],
   "source": [
    "# Valores perdidos / missings\n",
    "df_main['Gender'].isna().sum(), df_main['Gender'].isna().sum() / df_main.shape[0]"
   ]
  },
  {
   "cell_type": "markdown",
   "metadata": {},
   "source": [
    "### Explorar la variable \"Gender\""
   ]
  },
  {
   "cell_type": "code",
   "execution_count": 19,
   "metadata": {},
   "outputs": [
    {
     "data": {
      "text/plain": [
       "(Male      5457\n",
       " Female    4543\n",
       " Name: Gender, dtype: int64,\n",
       " Male      0.5457\n",
       " Female    0.4543\n",
       " Name: Gender, dtype: float64)"
      ]
     },
     "execution_count": 19,
     "metadata": {},
     "output_type": "execute_result"
    }
   ],
   "source": [
    "df_main['Gender'].value_counts(), df_main['Gender'].value_counts(normalize=True)"
   ]
  },
  {
   "cell_type": "code",
   "execution_count": 21,
   "metadata": {},
   "outputs": [
    {
     "data": {
      "text/html": [
       "<div>\n",
       "<style scoped>\n",
       "    .dataframe tbody tr th:only-of-type {\n",
       "        vertical-align: middle;\n",
       "    }\n",
       "\n",
       "    .dataframe tbody tr th {\n",
       "        vertical-align: top;\n",
       "    }\n",
       "\n",
       "    .dataframe thead th {\n",
       "        text-align: right;\n",
       "    }\n",
       "</style>\n",
       "<table border=\"1\" class=\"dataframe\">\n",
       "  <thead>\n",
       "    <tr style=\"text-align: right;\">\n",
       "      <th></th>\n",
       "      <th>edad_bins</th>\n",
       "      <th>Gender</th>\n",
       "      <th>conteo</th>\n",
       "    </tr>\n",
       "  </thead>\n",
       "  <tbody>\n",
       "    <tr>\n",
       "      <th>0</th>\n",
       "      <td>(18, 24]</td>\n",
       "      <td>Female</td>\n",
       "      <td>199</td>\n",
       "    </tr>\n",
       "    <tr>\n",
       "      <th>1</th>\n",
       "      <td>(18, 24]</td>\n",
       "      <td>Male</td>\n",
       "      <td>236</td>\n",
       "    </tr>\n",
       "    <tr>\n",
       "      <th>2</th>\n",
       "      <td>(24, 30]</td>\n",
       "      <td>Female</td>\n",
       "      <td>677</td>\n",
       "    </tr>\n",
       "    <tr>\n",
       "      <th>3</th>\n",
       "      <td>(24, 30]</td>\n",
       "      <td>Male</td>\n",
       "      <td>834</td>\n",
       "    </tr>\n",
       "    <tr>\n",
       "      <th>4</th>\n",
       "      <td>(30, 36]</td>\n",
       "      <td>Female</td>\n",
       "      <td>1146</td>\n",
       "    </tr>\n",
       "  </tbody>\n",
       "</table>\n",
       "</div>"
      ],
      "text/plain": [
       "  edad_bins  Gender  conteo\n",
       "0  (18, 24]  Female     199\n",
       "1  (18, 24]    Male     236\n",
       "2  (24, 30]  Female     677\n",
       "3  (24, 30]    Male     834\n",
       "4  (30, 36]  Female    1146"
      ]
     },
     "execution_count": 21,
     "metadata": {},
     "output_type": "execute_result"
    }
   ],
   "source": [
    "conteo_edad_x_sexo = (df_main[['edad_bins', 'Gender']].dropna() # Seleccion de columna y elimino NaNs\n",
    "                      .groupby(['edad_bins', 'Gender']).size() # Agrupo y cuento las obs. por intervalo de edad y sexo \n",
    "                      .reset_index() # Convierte a df \n",
    "                      .rename({0: 'conteo'}, axis=1)) # Cambia el nombre de \"0\" a \"conteo\"\n",
    "conteo_edad_x_sexo.head()"
   ]
  },
  {
   "cell_type": "markdown",
   "metadata": {},
   "source": [
    "### Cruzar las variables \"Age\" con \"Gender\""
   ]
  },
  {
   "cell_type": "code",
   "execution_count": 22,
   "metadata": {},
   "outputs": [
    {
     "data": {
      "image/png": "[encoded data removed]",
      "text/plain": [
       "<Figure size 436.35x360 with 1 Axes>"
      ]
     },
     "metadata": {},
     "output_type": "display_data"
    }
   ],
   "source": [
    "# Gráfica de barras de cantidad de personas por intervalo de edad en cada género\n",
    "g = sns.catplot(\n",
    "    data=conteo_edad_x_sexo, kind=\"bar\",\n",
    "    x=\"edad_bins\", y=\"conteo\", hue=\"Gender\",\n",
    ")\n",
    "g.set_xticklabels(rotation=90)\n",
    "plt.show()"
   ]
  },
  {
   "cell_type": "markdown",
   "metadata": {},
   "source": [
    "### Explorar con Geopandas la variable \"Geography\" en un mapa de Europa"
   ]
  },
  {
   "cell_type": "code",
   "execution_count": 51,
   "metadata": {},
   "outputs": [
    {
     "data": {
      "text/html": [
       "<div>\n",
       "<style scoped>\n",
       "    .dataframe tbody tr th:only-of-type {\n",
       "        vertical-align: middle;\n",
       "    }\n",
       "\n",
       "    .dataframe tbody tr th {\n",
       "        vertical-align: top;\n",
       "    }\n",
       "\n",
       "    .dataframe thead th {\n",
       "        text-align: right;\n",
       "    }\n",
       "</style>\n",
       "<table border=\"1\" class=\"dataframe\">\n",
       "  <thead>\n",
       "    <tr style=\"text-align: right;\">\n",
       "      <th></th>\n",
       "      <th>NAME</th>\n",
       "      <th>ORGN_NAME</th>\n",
       "      <th>geometry</th>\n",
       "    </tr>\n",
       "  </thead>\n",
       "  <tbody>\n",
       "    <tr>\n",
       "      <th>0</th>\n",
       "      <td>Albania</td>\n",
       "      <td>Shqipëria</td>\n",
       "      <td>MULTIPOLYGON (((19.50115 40.96230, 19.50563 40...</td>\n",
       "    </tr>\n",
       "    <tr>\n",
       "      <th>1</th>\n",
       "      <td>Andorra</td>\n",
       "      <td>Andorra</td>\n",
       "      <td>POLYGON ((1.43992 42.60649, 1.45041 42.60596, ...</td>\n",
       "    </tr>\n",
       "    <tr>\n",
       "      <th>2</th>\n",
       "      <td>Austria</td>\n",
       "      <td>Österreich</td>\n",
       "      <td>POLYGON ((16.00000 48.77775, 16.00000 48.78252...</td>\n",
       "    </tr>\n",
       "    <tr>\n",
       "      <th>3</th>\n",
       "      <td>Belgium</td>\n",
       "      <td>België / Belgique</td>\n",
       "      <td>POLYGON ((5.00000 49.79374, 4.99724 49.79696, ...</td>\n",
       "    </tr>\n",
       "    <tr>\n",
       "      <th>4</th>\n",
       "      <td>Bosnia Herzegovina</td>\n",
       "      <td>Bosna i Hercegovina</td>\n",
       "      <td>POLYGON ((19.22947 43.53458, 19.22925 43.53597...</td>\n",
       "    </tr>\n",
       "    <tr>\n",
       "      <th>5</th>\n",
       "      <td>Croatia</td>\n",
       "      <td>Hrvatska</td>\n",
       "      <td>MULTIPOLYGON (((14.30038 44.50156, 14.28972 44...</td>\n",
       "    </tr>\n",
       "    <tr>\n",
       "      <th>6</th>\n",
       "      <td>Czech Republic</td>\n",
       "      <td>Cesko</td>\n",
       "      <td>POLYGON ((14.82523 50.87399, 14.83687 50.86996...</td>\n",
       "    </tr>\n",
       "    <tr>\n",
       "      <th>7</th>\n",
       "      <td>Denmark</td>\n",
       "      <td>Danmark</td>\n",
       "      <td>MULTIPOLYGON (((11.99978 54.94118, 11.98534 54...</td>\n",
       "    </tr>\n",
       "    <tr>\n",
       "      <th>8</th>\n",
       "      <td>Estonia</td>\n",
       "      <td>Eesti</td>\n",
       "      <td>MULTIPOLYGON (((23.97511 58.09691, 23.96645 58...</td>\n",
       "    </tr>\n",
       "    <tr>\n",
       "      <th>9</th>\n",
       "      <td>Finland</td>\n",
       "      <td>Suomi</td>\n",
       "      <td>MULTIPOLYGON (((22.07310 60.22830, 22.06502 60...</td>\n",
       "    </tr>\n",
       "    <tr>\n",
       "      <th>10</th>\n",
       "      <td>France</td>\n",
       "      <td>France</td>\n",
       "      <td>MULTIPOLYGON (((-2.28137 46.68570, -2.31121 46...</td>\n",
       "    </tr>\n",
       "    <tr>\n",
       "      <th>11</th>\n",
       "      <td>Germany</td>\n",
       "      <td>Deutschland</td>\n",
       "      <td>MULTIPOLYGON (((13.11717 54.54924, 13.12529 54...</td>\n",
       "    </tr>\n",
       "    <tr>\n",
       "      <th>12</th>\n",
       "      <td>Gibraltar (UK)</td>\n",
       "      <td>Gibraltar (UK)</td>\n",
       "      <td>POLYGON ((-5.35322 36.15980, -5.34003 36.15975...</td>\n",
       "    </tr>\n",
       "    <tr>\n",
       "      <th>13</th>\n",
       "      <td>Greece</td>\n",
       "      <td>Elláda</td>\n",
       "      <td>MULTIPOLYGON (((24.74283 37.59560, 24.73534 37...</td>\n",
       "    </tr>\n",
       "    <tr>\n",
       "      <th>14</th>\n",
       "      <td>Guernsey (UK)</td>\n",
       "      <td>Guernsey (UK)</td>\n",
       "      <td>MULTIPOLYGON (((-2.52483 49.48867, -2.52034 49...</td>\n",
       "    </tr>\n",
       "    <tr>\n",
       "      <th>15</th>\n",
       "      <td>Hungary</td>\n",
       "      <td>Magyarország</td>\n",
       "      <td>POLYGON ((22.32725 48.36194, 22.32294 48.32583...</td>\n",
       "    </tr>\n",
       "    <tr>\n",
       "      <th>16</th>\n",
       "      <td>Ireland</td>\n",
       "      <td>Éire / Ireland</td>\n",
       "      <td>MULTIPOLYGON (((-10.21726 51.74543, -10.22042 ...</td>\n",
       "    </tr>\n",
       "    <tr>\n",
       "      <th>17</th>\n",
       "      <td>Isle of Man (UK)</td>\n",
       "      <td>Isle of Man (UK)</td>\n",
       "      <td>MULTIPOLYGON (((-4.38349 54.32594, -4.37470 54...</td>\n",
       "    </tr>\n",
       "    <tr>\n",
       "      <th>18</th>\n",
       "      <td>Italy</td>\n",
       "      <td>Italia</td>\n",
       "      <td>MULTIPOLYGON (((12.46117 37.88075, 12.45686 37...</td>\n",
       "    </tr>\n",
       "    <tr>\n",
       "      <th>19</th>\n",
       "      <td>Jersey (UK)</td>\n",
       "      <td>Jersey (UK)</td>\n",
       "      <td>POLYGON ((-2.03507 49.19905, -2.03699 49.19314...</td>\n",
       "    </tr>\n",
       "    <tr>\n",
       "      <th>20</th>\n",
       "      <td>Latvia</td>\n",
       "      <td>Latvija</td>\n",
       "      <td>POLYGON ((22.14997 57.64129, 22.17712 57.65100...</td>\n",
       "    </tr>\n",
       "    <tr>\n",
       "      <th>21</th>\n",
       "      <td>Liechtenstein</td>\n",
       "      <td>Liechtenstein</td>\n",
       "      <td>POLYGON ((9.53591 47.27354, 9.56037 47.24912, ...</td>\n",
       "    </tr>\n",
       "    <tr>\n",
       "      <th>22</th>\n",
       "      <td>Lithuania</td>\n",
       "      <td>Lietuva</td>\n",
       "      <td>MULTIPOLYGON (((26.22030 55.00000, 26.21693 54...</td>\n",
       "    </tr>\n",
       "    <tr>\n",
       "      <th>23</th>\n",
       "      <td>Luxembourg</td>\n",
       "      <td>Lëtzebuerg / Luxemburg / Luxembourg</td>\n",
       "      <td>POLYGON ((6.13802 50.13290, 6.14092 50.12927, ...</td>\n",
       "    </tr>\n",
       "    <tr>\n",
       "      <th>24</th>\n",
       "      <td>Macedonia</td>\n",
       "      <td>Makedonija</td>\n",
       "      <td>POLYGON ((22.37382 42.32667, 22.37228 42.32576...</td>\n",
       "    </tr>\n",
       "    <tr>\n",
       "      <th>25</th>\n",
       "      <td>Malta</td>\n",
       "      <td>Malta</td>\n",
       "      <td>MULTIPOLYGON (((14.33938 36.00751, 14.33490 36...</td>\n",
       "    </tr>\n",
       "    <tr>\n",
       "      <th>26</th>\n",
       "      <td>Monaco</td>\n",
       "      <td>Monaco</td>\n",
       "      <td>POLYGON ((7.40680 43.73196, 7.40175 43.73449, ...</td>\n",
       "    </tr>\n",
       "    <tr>\n",
       "      <th>27</th>\n",
       "      <td>Montenegro</td>\n",
       "      <td>Crna Gora</td>\n",
       "      <td>MULTIPOLYGON (((19.22947 43.53458, 19.22795 43...</td>\n",
       "    </tr>\n",
       "    <tr>\n",
       "      <th>28</th>\n",
       "      <td>Netherlands</td>\n",
       "      <td>Nederland</td>\n",
       "      <td>MULTIPOLYGON (((6.05039 53.44675, 6.04538 53.4...</td>\n",
       "    </tr>\n",
       "    <tr>\n",
       "      <th>29</th>\n",
       "      <td>Norway</td>\n",
       "      <td>Norge</td>\n",
       "      <td>MULTIPOLYGON (((14.82404 68.21677, 14.80662 68...</td>\n",
       "    </tr>\n",
       "    <tr>\n",
       "      <th>30</th>\n",
       "      <td>Poland</td>\n",
       "      <td>Polska</td>\n",
       "      <td>MULTIPOLYGON (((14.21288 53.86478, 14.21349 53...</td>\n",
       "    </tr>\n",
       "    <tr>\n",
       "      <th>31</th>\n",
       "      <td>Portugal</td>\n",
       "      <td>Portugal</td>\n",
       "      <td>MULTIPOLYGON (((-25.83763 37.88595, -25.83689 ...</td>\n",
       "    </tr>\n",
       "    <tr>\n",
       "      <th>32</th>\n",
       "      <td>San Marino</td>\n",
       "      <td>San Marino</td>\n",
       "      <td>POLYGON ((12.51004 43.99981, 12.51557 43.99566...</td>\n",
       "    </tr>\n",
       "    <tr>\n",
       "      <th>33</th>\n",
       "      <td>Serbia</td>\n",
       "      <td>Srbija</td>\n",
       "      <td>POLYGON ((18.83875 45.90742, 18.86463 45.91018...</td>\n",
       "    </tr>\n",
       "    <tr>\n",
       "      <th>34</th>\n",
       "      <td>Slovakia</td>\n",
       "      <td>Slovensko</td>\n",
       "      <td>POLYGON ((18.85061 49.52131, 18.85416 49.51941...</td>\n",
       "    </tr>\n",
       "    <tr>\n",
       "      <th>35</th>\n",
       "      <td>Slovenia</td>\n",
       "      <td>Slovenija</td>\n",
       "      <td>POLYGON ((16.56602 46.48372, 16.54178 46.48717...</td>\n",
       "    </tr>\n",
       "    <tr>\n",
       "      <th>36</th>\n",
       "      <td>Spain</td>\n",
       "      <td>España</td>\n",
       "      <td>MULTIPOLYGON (((-5.60904 36.00032, -5.61149 36...</td>\n",
       "    </tr>\n",
       "    <tr>\n",
       "      <th>37</th>\n",
       "      <td>Sweden</td>\n",
       "      <td>Sverige</td>\n",
       "      <td>MULTIPOLYGON (((16.69817 57.43244, 16.69456 57...</td>\n",
       "    </tr>\n",
       "    <tr>\n",
       "      <th>38</th>\n",
       "      <td>Switzerland</td>\n",
       "      <td>Schweiz / Suisse / Svizerra / Svizra</td>\n",
       "      <td>POLYGON ((9.53591 47.27354, 9.52660 47.25858, ...</td>\n",
       "    </tr>\n",
       "    <tr>\n",
       "      <th>39</th>\n",
       "      <td>United Kingdom</td>\n",
       "      <td>United Kingdom</td>\n",
       "      <td>MULTIPOLYGON (((-5.33523 51.85830, -5.34557 51...</td>\n",
       "    </tr>\n",
       "    <tr>\n",
       "      <th>40</th>\n",
       "      <td>Armenia</td>\n",
       "      <td>Hayastan</td>\n",
       "      <td>MULTIPOLYGON (((45.48185 40.65776, 45.49001 40...</td>\n",
       "    </tr>\n",
       "    <tr>\n",
       "      <th>41</th>\n",
       "      <td>Azerbaijan</td>\n",
       "      <td>Azerbaycan</td>\n",
       "      <td>MULTIPOLYGON (((49.02264 39.19647, 49.02892 39...</td>\n",
       "    </tr>\n",
       "    <tr>\n",
       "      <th>42</th>\n",
       "      <td>Belarus</td>\n",
       "      <td>Belarus</td>\n",
       "      <td>POLYGON ((30.00000 51.48946, 29.95314 51.48722...</td>\n",
       "    </tr>\n",
       "    <tr>\n",
       "      <th>43</th>\n",
       "      <td>Bulgaria</td>\n",
       "      <td>Balgarija</td>\n",
       "      <td>POLYGON ((22.68183 44.21765, 22.68898 44.21381...</td>\n",
       "    </tr>\n",
       "    <tr>\n",
       "      <th>44</th>\n",
       "      <td>Faeroe Islands (Denmark)</td>\n",
       "      <td>Foroyar (Danmark)</td>\n",
       "      <td>MULTIPOLYGON (((-6.37378 62.23575, -6.38222 62...</td>\n",
       "    </tr>\n",
       "    <tr>\n",
       "      <th>45</th>\n",
       "      <td>Georgia</td>\n",
       "      <td>Sakartvelo</td>\n",
       "      <td>POLYGON ((40.01024 43.38326, 40.01102 43.39860...</td>\n",
       "    </tr>\n",
       "    <tr>\n",
       "      <th>46</th>\n",
       "      <td>Iceland</td>\n",
       "      <td>Ísland</td>\n",
       "      <td>MULTIPOLYGON (((-15.38783 64.35684, -15.39691 ...</td>\n",
       "    </tr>\n",
       "    <tr>\n",
       "      <th>47</th>\n",
       "      <td>Jan Mayen (Norway)</td>\n",
       "      <td>Jan Mayen (Norge)</td>\n",
       "      <td>POLYGON ((-8.13727 71.14619, -8.09449 71.14722...</td>\n",
       "    </tr>\n",
       "    <tr>\n",
       "      <th>48</th>\n",
       "      <td>Moldova</td>\n",
       "      <td>Moldova</td>\n",
       "      <td>POLYGON ((27.72524 48.45466, 27.74713 48.45837...</td>\n",
       "    </tr>\n",
       "    <tr>\n",
       "      <th>49</th>\n",
       "      <td>Romania</td>\n",
       "      <td>România</td>\n",
       "      <td>MULTIPOLYGON (((29.59458 44.81385, 29.57739 44...</td>\n",
       "    </tr>\n",
       "    <tr>\n",
       "      <th>50</th>\n",
       "      <td>Svalbard (Norway)</td>\n",
       "      <td>Svalbard (Norge)</td>\n",
       "      <td>MULTIPOLYGON (((20.80218 78.56455, 20.80361 78...</td>\n",
       "    </tr>\n",
       "    <tr>\n",
       "      <th>51</th>\n",
       "      <td>Turkey</td>\n",
       "      <td>Türkiye</td>\n",
       "      <td>MULTIPOLYGON (((29.11932 40.83066, 29.11734 40...</td>\n",
       "    </tr>\n",
       "    <tr>\n",
       "      <th>52</th>\n",
       "      <td>Ukraine</td>\n",
       "      <td>Ukrajina</td>\n",
       "      <td>MULTIPOLYGON (((33.52988 45.87363, 33.52778 45...</td>\n",
       "    </tr>\n",
       "    <tr>\n",
       "      <th>53</th>\n",
       "      <td>Russia</td>\n",
       "      <td>Rossíya</td>\n",
       "      <td>MULTIPOLYGON (((52.65438 71.45161, 52.64216 71...</td>\n",
       "    </tr>\n",
       "  </tbody>\n",
       "</table>\n",
       "</div>"
      ],
      "text/plain": [
       "                        NAME                             ORGN_NAME  \\\n",
       "0                    Albania                             Shqipëria   \n",
       "1                    Andorra                               Andorra   \n",
       "2                    Austria                            Österreich   \n",
       "3                    Belgium                     België / Belgique   \n",
       "4         Bosnia Herzegovina                   Bosna i Hercegovina   \n",
       "5                    Croatia                              Hrvatska   \n",
       "6             Czech Republic                                 Cesko   \n",
       "7                    Denmark                               Danmark   \n",
       "8                    Estonia                                 Eesti   \n",
       "9                    Finland                                 Suomi   \n",
       "10                    France                                France   \n",
       "11                   Germany                           Deutschland   \n",
       "12            Gibraltar (UK)                        Gibraltar (UK)   \n",
       "13                    Greece                                Elláda   \n",
       "14             Guernsey (UK)                         Guernsey (UK)   \n",
       "15                   Hungary                          Magyarország   \n",
       "16                   Ireland                        Éire / Ireland   \n",
       "17          Isle of Man (UK)                      Isle of Man (UK)   \n",
       "18                     Italy                                Italia   \n",
       "19               Jersey (UK)                           Jersey (UK)   \n",
       "20                    Latvia                               Latvija   \n",
       "21             Liechtenstein                         Liechtenstein   \n",
       "22                 Lithuania                               Lietuva   \n",
       "23                Luxembourg   Lëtzebuerg / Luxemburg / Luxembourg   \n",
       "24                 Macedonia                            Makedonija   \n",
       "25                     Malta                                 Malta   \n",
       "26                    Monaco                                Monaco   \n",
       "27                Montenegro                             Crna Gora   \n",
       "28               Netherlands                             Nederland   \n",
       "29                    Norway                                 Norge   \n",
       "30                    Poland                                Polska   \n",
       "31                  Portugal                              Portugal   \n",
       "32                San Marino                            San Marino   \n",
       "33                    Serbia                                Srbija   \n",
       "34                  Slovakia                             Slovensko   \n",
       "35                  Slovenia                             Slovenija   \n",
       "36                     Spain                                España   \n",
       "37                    Sweden                               Sverige   \n",
       "38               Switzerland  Schweiz / Suisse / Svizerra / Svizra   \n",
       "39            United Kingdom                        United Kingdom   \n",
       "40                   Armenia                              Hayastan   \n",
       "41                Azerbaijan                            Azerbaycan   \n",
       "42                   Belarus                               Belarus   \n",
       "43                  Bulgaria                             Balgarija   \n",
       "44  Faeroe Islands (Denmark)                     Foroyar (Danmark)   \n",
       "45                   Georgia                            Sakartvelo   \n",
       "46                   Iceland                                Ísland   \n",
       "47        Jan Mayen (Norway)                     Jan Mayen (Norge)   \n",
       "48                   Moldova                               Moldova   \n",
       "49                   Romania                               România   \n",
       "50         Svalbard (Norway)                      Svalbard (Norge)   \n",
       "51                    Turkey                               Türkiye   \n",
       "52                   Ukraine                              Ukrajina   \n",
       "53                    Russia                               Rossíya   \n",
       "\n",
       "                                             geometry  \n",
       "0   MULTIPOLYGON (((19.50115 40.96230, 19.50563 40...  \n",
       "1   POLYGON ((1.43992 42.60649, 1.45041 42.60596, ...  \n",
       "2   POLYGON ((16.00000 48.77775, 16.00000 48.78252...  \n",
       "3   POLYGON ((5.00000 49.79374, 4.99724 49.79696, ...  \n",
       "4   POLYGON ((19.22947 43.53458, 19.22925 43.53597...  \n",
       "5   MULTIPOLYGON (((14.30038 44.50156, 14.28972 44...  \n",
       "6   POLYGON ((14.82523 50.87399, 14.83687 50.86996...  \n",
       "7   MULTIPOLYGON (((11.99978 54.94118, 11.98534 54...  \n",
       "8   MULTIPOLYGON (((23.97511 58.09691, 23.96645 58...  \n",
       "9   MULTIPOLYGON (((22.07310 60.22830, 22.06502 60...  \n",
       "10  MULTIPOLYGON (((-2.28137 46.68570, -2.31121 46...  \n",
       "11  MULTIPOLYGON (((13.11717 54.54924, 13.12529 54...  \n",
       "12  POLYGON ((-5.35322 36.15980, -5.34003 36.15975...  \n",
       "13  MULTIPOLYGON (((24.74283 37.59560, 24.73534 37...  \n",
       "14  MULTIPOLYGON (((-2.52483 49.48867, -2.52034 49...  \n",
       "15  POLYGON ((22.32725 48.36194, 22.32294 48.32583...  \n",
       "16  MULTIPOLYGON (((-10.21726 51.74543, -10.22042 ...  \n",
       "17  MULTIPOLYGON (((-4.38349 54.32594, -4.37470 54...  \n",
       "18  MULTIPOLYGON (((12.46117 37.88075, 12.45686 37...  \n",
       "19  POLYGON ((-2.03507 49.19905, -2.03699 49.19314...  \n",
       "20  POLYGON ((22.14997 57.64129, 22.17712 57.65100...  \n",
       "21  POLYGON ((9.53591 47.27354, 9.56037 47.24912, ...  \n",
       "22  MULTIPOLYGON (((26.22030 55.00000, 26.21693 54...  \n",
       "23  POLYGON ((6.13802 50.13290, 6.14092 50.12927, ...  \n",
       "24  POLYGON ((22.37382 42.32667, 22.37228 42.32576...  \n",
       "25  MULTIPOLYGON (((14.33938 36.00751, 14.33490 36...  \n",
       "26  POLYGON ((7.40680 43.73196, 7.40175 43.73449, ...  \n",
       "27  MULTIPOLYGON (((19.22947 43.53458, 19.22795 43...  \n",
       "28  MULTIPOLYGON (((6.05039 53.44675, 6.04538 53.4...  \n",
       "29  MULTIPOLYGON (((14.82404 68.21677, 14.80662 68...  \n",
       "30  MULTIPOLYGON (((14.21288 53.86478, 14.21349 53...  \n",
       "31  MULTIPOLYGON (((-25.83763 37.88595, -25.83689 ...  \n",
       "32  POLYGON ((12.51004 43.99981, 12.51557 43.99566...  \n",
       "33  POLYGON ((18.83875 45.90742, 18.86463 45.91018...  \n",
       "34  POLYGON ((18.85061 49.52131, 18.85416 49.51941...  \n",
       "35  POLYGON ((16.56602 46.48372, 16.54178 46.48717...  \n",
       "36  MULTIPOLYGON (((-5.60904 36.00032, -5.61149 36...  \n",
       "37  MULTIPOLYGON (((16.69817 57.43244, 16.69456 57...  \n",
       "38  POLYGON ((9.53591 47.27354, 9.52660 47.25858, ...  \n",
       "39  MULTIPOLYGON (((-5.33523 51.85830, -5.34557 51...  \n",
       "40  MULTIPOLYGON (((45.48185 40.65776, 45.49001 40...  \n",
       "41  MULTIPOLYGON (((49.02264 39.19647, 49.02892 39...  \n",
       "42  POLYGON ((30.00000 51.48946, 29.95314 51.48722...  \n",
       "43  POLYGON ((22.68183 44.21765, 22.68898 44.21381...  \n",
       "44  MULTIPOLYGON (((-6.37378 62.23575, -6.38222 62...  \n",
       "45  POLYGON ((40.01024 43.38326, 40.01102 43.39860...  \n",
       "46  MULTIPOLYGON (((-15.38783 64.35684, -15.39691 ...  \n",
       "47  POLYGON ((-8.13727 71.14619, -8.09449 71.14722...  \n",
       "48  POLYGON ((27.72524 48.45466, 27.74713 48.45837...  \n",
       "49  MULTIPOLYGON (((29.59458 44.81385, 29.57739 44...  \n",
       "50  MULTIPOLYGON (((20.80218 78.56455, 20.80361 78...  \n",
       "51  MULTIPOLYGON (((29.11932 40.83066, 29.11734 40...  \n",
       "52  MULTIPOLYGON (((33.52988 45.87363, 33.52778 45...  \n",
       "53  MULTIPOLYGON (((52.65438 71.45161, 52.64216 71...  "
      ]
     },
     "execution_count": 51,
     "metadata": {},
     "output_type": "execute_result"
    }
   ],
   "source": [
    "shapefile = '../DATA/Europe'\n",
    "europa_gdf = gpd.read_file(shapefile)\n",
    "europa_gdf"
   ]
  },
  {
   "cell_type": "code",
   "execution_count": 54,
   "metadata": {},
   "outputs": [
    {
     "data": {
      "text/plain": [
       "<AxesSubplot:>"
      ]
     },
     "execution_count": 54,
     "metadata": {},
     "output_type": "execute_result"
    },
    {
     "data": {
      "image/png": "[encoded data removed]",
      "text/plain": [
       "<Figure size 1440x576 with 1 Axes>"
      ]
     },
     "metadata": {},
     "output_type": "display_data"
    }
   ],
   "source": [
    "fig, (ax1) = plt.subplots(nrows=1, ncols=1,\n",
    "                                    figsize=(20, 8))\n",
    "\n",
    "europa_gdf.plot(ax=ax1)"
   ]
  },
  {
   "cell_type": "code",
   "execution_count": 61,
   "metadata": {},
   "outputs": [
    {
     "data": {
      "text/html": [
       "<div>\n",
       "<style scoped>\n",
       "    .dataframe tbody tr th:only-of-type {\n",
       "        vertical-align: middle;\n",
       "    }\n",
       "\n",
       "    .dataframe tbody tr th {\n",
       "        vertical-align: top;\n",
       "    }\n",
       "\n",
       "    .dataframe thead th {\n",
       "        text-align: right;\n",
       "    }\n",
       "</style>\n",
       "<table border=\"1\" class=\"dataframe\">\n",
       "  <thead>\n",
       "    <tr style=\"text-align: right;\">\n",
       "      <th></th>\n",
       "      <th>index</th>\n",
       "      <th>Geography</th>\n",
       "    </tr>\n",
       "  </thead>\n",
       "  <tbody>\n",
       "    <tr>\n",
       "      <th>0</th>\n",
       "      <td>France</td>\n",
       "      <td>5014</td>\n",
       "    </tr>\n",
       "    <tr>\n",
       "      <th>1</th>\n",
       "      <td>Germany</td>\n",
       "      <td>2509</td>\n",
       "    </tr>\n",
       "    <tr>\n",
       "      <th>2</th>\n",
       "      <td>Spain</td>\n",
       "      <td>2477</td>\n",
       "    </tr>\n",
       "  </tbody>\n",
       "</table>\n",
       "</div>"
      ],
      "text/plain": [
       "     index  Geography\n",
       "0   France       5014\n",
       "1  Germany       2509\n",
       "2    Spain       2477"
      ]
     },
     "execution_count": 61,
     "metadata": {},
     "output_type": "execute_result"
    }
   ],
   "source": [
    "# Contamos la cantidad de hospitalizados por departamento\n",
    "conteo_x_pais = df_main['Geography'].value_counts()\n",
    "conteo_x_pais = conteo_x_pais.reset_index()\n",
    "conteo_x_pais.head()"
   ]
  },
  {
   "cell_type": "code",
   "execution_count": 70,
   "metadata": {},
   "outputs": [],
   "source": [
    "# Unimos los conteos utilizando los nombres de departamentos\n",
    "gdf_conteo_x_pais = pd.merge(left=europa_gdf, right=conteo_x_pais, \n",
    "                             left_on=\"NAME\", right_on='index')"
   ]
  },
  {
   "cell_type": "code",
   "execution_count": 76,
   "metadata": {},
   "outputs": [
    {
     "data": {
      "text/plain": [
       "<AxesSubplot:>"
      ]
     },
     "execution_count": 76,
     "metadata": {},
     "output_type": "execute_result"
    },
    {
     "data": {
      "image/png": "[encoded data removed]",
      "text/plain": [
       "<Figure size 432x288 with 1 Axes>"
      ]
     },
     "metadata": {},
     "output_type": "display_data"
    }
   ],
   "source": [
    "# Mapa de calor de # x pais\n",
    "gdf_conteo_x_pais.plot(\"NAME\", cmap='viridis',\n",
    "                       legend=True)             "
   ]
  },
  {
   "cell_type": "code",
   "execution_count": 78,
   "metadata": {},
   "outputs": [
    {
     "data": {
      "image/png": "[encoded data removed]",
      "text/plain": [
       "<Figure size 432x288 with 1 Axes>"
      ]
     },
     "metadata": {},
     "output_type": "display_data"
    }
   ],
   "source": [
    "df_main['EstimatedSalary'].hist()\n",
    "plt.show()"
   ]
  },
  {
   "cell_type": "code",
   "execution_count": 79,
   "metadata": {},
   "outputs": [
    {
     "data": {
      "text/plain": [
       "count     10000.000000\n",
       "mean     100090.239881\n",
       "std       57510.492818\n",
       "min          11.580000\n",
       "25%       51002.110000\n",
       "50%      100193.915000\n",
       "75%      149388.247500\n",
       "max      199992.480000\n",
       "Name: EstimatedSalary, dtype: float64"
      ]
     },
     "execution_count": 79,
     "metadata": {},
     "output_type": "execute_result"
    }
   ],
   "source": [
    "df_main['EstimatedSalary'].describe()"
   ]
  },
  {
   "cell_type": "code",
   "execution_count": 84,
   "metadata": {},
   "outputs": [
    {
     "data": {
      "text/plain": [
       "(100000, 150000]    2555\n",
       "(50000, 100000]     2537\n",
       "(150000, 200000]    2455\n",
       "(25000, 50000]      1236\n",
       "(10000, 25000]       709\n",
       "(1000, 10000]        449\n",
       "(11, 1000]            59\n",
       "Name: EstimatedSalary, dtype: int64"
      ]
     },
     "execution_count": 84,
     "metadata": {},
     "output_type": "execute_result"
    }
   ],
   "source": [
    "rangos_SalarioEstimado = [11,1000,10000,25000,50000,100000,150000,200000]\n",
    "Estimado_bins = pd.cut(df_main['EstimatedSalary'], bins=rangos_SalarioEstimado)\n",
    "\n",
    "Estimado_bins_count = Estimado_bins.value_counts()\n",
    "Estimado_bins_count"
   ]
  },
  {
   "cell_type": "code",
   "execution_count": 86,
   "metadata": {},
   "outputs": [
    {
     "data": {
      "text/plain": [
       "<AxesSubplot:>"
      ]
     },
     "execution_count": 86,
     "metadata": {},
     "output_type": "execute_result"
    },
    {
     "data": {
      "image/png": "[encoded data removed]",
      "text/plain": [
       "<Figure size 432x288 with 1 Axes>"
      ]
     },
     "metadata": {},
     "output_type": "display_data"
    }
   ],
   "source": [
    "Estimado_bins_count.sort_index().plot(kind='bar')"
   ]
  },
  {
   "cell_type": "code",
   "execution_count": 87,
   "metadata": {},
   "outputs": [
    {
     "data": {
      "image/png": "[encoded data removed]",
      "text/plain": [
       "<Figure size 432x288 with 1 Axes>"
      ]
     },
     "metadata": {},
     "output_type": "display_data"
    }
   ],
   "source": [
    "df_main['Exited'].hist()\n",
    "plt.show()"
   ]
  },
  {
   "cell_type": "code",
   "execution_count": 88,
   "metadata": {},
   "outputs": [
    {
     "data": {
      "text/plain": [
       "count    10000.000000\n",
       "mean         0.203700\n",
       "std          0.402769\n",
       "min          0.000000\n",
       "25%          0.000000\n",
       "50%          0.000000\n",
       "75%          0.000000\n",
       "max          1.000000\n",
       "Name: Exited, dtype: float64"
      ]
     },
     "execution_count": 88,
     "metadata": {},
     "output_type": "execute_result"
    }
   ],
   "source": [
    "df_main['Exited'].describe()"
   ]
  },
  {
   "cell_type": "markdown",
   "metadata": {},
   "source": [
    "### Hipotesis2:La fuga puede ser una relación directa con la edad de los clientes bancarios"
   ]
  },
  {
   "cell_type": "code",
   "execution_count": 92,
   "metadata": {},
   "outputs": [
    {
     "data": {
      "text/html": [
       "<div>\n",
       "<style scoped>\n",
       "    .dataframe tbody tr th:only-of-type {\n",
       "        vertical-align: middle;\n",
       "    }\n",
       "\n",
       "    .dataframe tbody tr th {\n",
       "        vertical-align: top;\n",
       "    }\n",
       "\n",
       "    .dataframe thead th {\n",
       "        text-align: right;\n",
       "    }\n",
       "</style>\n",
       "<table border=\"1\" class=\"dataframe\">\n",
       "  <thead>\n",
       "    <tr style=\"text-align: right;\">\n",
       "      <th></th>\n",
       "      <th>edad_bins</th>\n",
       "      <th>Exited</th>\n",
       "      <th>conteo</th>\n",
       "    </tr>\n",
       "  </thead>\n",
       "  <tbody>\n",
       "    <tr>\n",
       "      <th>0</th>\n",
       "      <td>(18, 24]</td>\n",
       "      <td>0</td>\n",
       "      <td>397</td>\n",
       "    </tr>\n",
       "    <tr>\n",
       "      <th>1</th>\n",
       "      <td>(18, 24]</td>\n",
       "      <td>1</td>\n",
       "      <td>38</td>\n",
       "    </tr>\n",
       "    <tr>\n",
       "      <th>2</th>\n",
       "      <td>(24, 30]</td>\n",
       "      <td>0</td>\n",
       "      <td>1403</td>\n",
       "    </tr>\n",
       "    <tr>\n",
       "      <th>3</th>\n",
       "      <td>(24, 30]</td>\n",
       "      <td>1</td>\n",
       "      <td>108</td>\n",
       "    </tr>\n",
       "    <tr>\n",
       "      <th>4</th>\n",
       "      <td>(30, 36]</td>\n",
       "      <td>0</td>\n",
       "      <td>2389</td>\n",
       "    </tr>\n",
       "  </tbody>\n",
       "</table>\n",
       "</div>"
      ],
      "text/plain": [
       "  edad_bins  Exited  conteo\n",
       "0  (18, 24]       0     397\n",
       "1  (18, 24]       1      38\n",
       "2  (24, 30]       0    1403\n",
       "3  (24, 30]       1     108\n",
       "4  (30, 36]       0    2389"
      ]
     },
     "execution_count": 92,
     "metadata": {},
     "output_type": "execute_result"
    }
   ],
   "source": [
    "conteo_edad_x_exited = (df_main[['edad_bins', 'Exited']].dropna() # Seleccion de columna y elimino NaNs\n",
    "                      .groupby(['edad_bins', 'Exited']).size() # Agrupo y cuento las obs. por intervalo de edad y sexo \n",
    "                      .reset_index() # Convierte a df \n",
    "                      .rename({0: 'conteo'}, axis=1)) # Cambia el nombre de \"0\" a \"conteo\"\n",
    "conteo_edad_x_exited.head()"
   ]
  },
  {
   "cell_type": "code",
   "execution_count": 93,
   "metadata": {},
   "outputs": [
    {
     "data": {
      "image/png": "[encoded data removed]",
      "text/plain": [
       "<Figure size 405.725x360 with 1 Axes>"
      ]
     },
     "metadata": {},
     "output_type": "display_data"
    }
   ],
   "source": [
    "# Gráfica de barras de cantidad de personas por intervalo de edad por fuga\n",
    "g = sns.catplot(\n",
    "    data=conteo_edad_x_exited, kind=\"bar\",\n",
    "    x=\"edad_bins\", y=\"conteo\", hue=\"Exited\",\n",
    ")\n",
    "g.set_xticklabels(rotation=90)\n",
    "plt.show()"
   ]
  },
  {
   "cell_type": "code",
   "execution_count": null,
   "metadata": {},
   "outputs": [],
   "source": [
    "Preguntas de exploración\n",
    "1.¿Cual es la edad promedio de los clientes que se fugaron del banco?\n",
    "2)¿Cual es el sueldo estimado de los clientes que se fugaron del banco?\n",
    "3) sexo Generator\n",
    "4) "
   ]
  },
  {
   "cell_type": "markdown",
   "metadata": {},
   "source": [
    "### Hipotesis2:La fuga puede ser una relación directa con la edad de los clientes bancarios\n"
   ]
  }
 ],
 "metadata": {
  "interpreter": {
   "hash": "68f1026a459648065f268356980d1e68b1872bb97cbd45e270db225b7c49ef96"
  },
  "kernelspec": {
   "display_name": "Python 3.9.11 ('Pythonanalytics_env': venv)",
   "language": "python",
   "name": "python3"
  },
  "language_info": {
   "codemirror_mode": {
    "name": "ipython",
    "version": 3
   },
   "file_extension": ".py",
   "mimetype": "text/x-python",
   "name": "python",
   "nbconvert_exporter": "python",
   "pygments_lexer": "ipython3",
   "version": "3.9.11"
  },
  "orig_nbformat": 4
 },
 "nbformat": 4,
 "nbformat_minor": 2
}
